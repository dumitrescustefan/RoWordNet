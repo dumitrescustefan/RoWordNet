{
 "cells": [
  {
   "cell_type": "markdown",
   "metadata": {},
   "source": [
    "# RoWordNet tutorial\n",
    "\n",
    "\n",
    "This tutorial will guide you through the basic operations in the RoWordNet module.\n",
    "\n"
   ]
  },
  {
   "cell_type": "markdown",
   "metadata": {},
   "source": [
    "Let's start by creating a new synset. "
   ]
  },
  {
   "cell_type": "code",
   "execution_count": 1,
   "metadata": {},
   "outputs": [],
   "source": [
    "from synset import Synset\n",
    "\n",
    "synset = Synset(\"id\")"
   ]
  },
  {
   "cell_type": "markdown",
   "metadata": {},
   "source": [
    "Now that the synset has been created, we can assign some values to its parameters."
   ]
  },
  {
   "cell_type": "code",
   "execution_count": 2,
   "metadata": {},
   "outputs": [],
   "source": [
    "synset.defition = \"Asta este o definitie\"\n",
    "synset.pos = Synset.Pos.NOUN"
   ]
  },
  {
   "cell_type": "markdown",
   "metadata": {},
   "source": [
    "(parameter 'pos' has been assigned an enumeration value from 'Synset.Pos'(NOUN, VERB, ADVERB, ADJECTIVE))\n",
    "\n",
    "We can add a literal(word) to the synset."
   ]
  },
  {
   "cell_type": "code",
   "execution_count": 3,
   "metadata": {
    "scrolled": true
   },
   "outputs": [
    {
     "name": "stdout",
     "output_type": "stream",
     "text": [
      "This synset has 1 literals\n"
     ]
    }
   ],
   "source": [
    "literal = \"leu\"\n",
    "synset.add_literal(literal)\n",
    "print(\"This synset has {} literals\".format(len(synset.literals)))"
   ]
  },
  {
   "cell_type": "markdown",
   "metadata": {},
   "source": [
    "We can observe that the literal has been sucesfully added to the synset. Now let's try to remove it."
   ]
  },
  {
   "cell_type": "code",
   "execution_count": 4,
   "metadata": {
    "scrolled": true
   },
   "outputs": [
    {
     "name": "stdout",
     "output_type": "stream",
     "text": [
      "This synset has 0 literals\n"
     ]
    }
   ],
   "source": [
    "synset.remove_literal(literal)\n",
    "print(\"This synset has {} literals\".format(len(synset.literals)))"
   ]
  },
  {
   "cell_type": "markdown",
   "metadata": {},
   "source": [
    "We can also add more literals at once."
   ]
  },
  {
   "cell_type": "code",
   "execution_count": 5,
   "metadata": {},
   "outputs": [
    {
     "name": "stdout",
     "output_type": "stream",
     "text": [
      "This synset has 3 literals\n"
     ]
    }
   ],
   "source": [
    "literals = ['lup', 'oaie', 'cal']\n",
    "synset.literals = literals\n",
    "print(\"This synset has {} literals\".format(len(synset.literals)))"
   ]
  },
  {
   "cell_type": "markdown",
   "metadata": {},
   "source": [
    "Now let's create a wordnet."
   ]
  },
  {
   "cell_type": "code",
   "execution_count": 6,
   "metadata": {},
   "outputs": [],
   "source": [
    "from wordnet import WordNet\n",
    "\n",
    "wordnet = WordNet()"
   ]
  },
  {
   "cell_type": "markdown",
   "metadata": {},
   "source": [
    "We can also create a wordnet by loading it from a desired file. We have to specify the file path and whether the file is in xml or binary format(the default is binary)."
   ]
  },
  {
   "cell_type": "code",
   "execution_count": 7,
   "metadata": {},
   "outputs": [],
   "source": [
    "# create a wordnet from a binary file\n",
    "wordnet = WordNet(\"resources/binary_wn.pck\", xml=False)\n",
    "\n",
    "# create a wordnet from an xml file\n",
    "wordnet = WordNet(\"resources/xml_wn.xml\", xml=True)"
   ]
  },
  {
   "cell_type": "markdown",
   "metadata": {},
   "source": [
    "We can save the wordnet in xml or binary format."
   ]
  },
  {
   "cell_type": "code",
   "execution_count": 8,
   "metadata": {},
   "outputs": [],
   "source": [
    "# save the wordnet in binary format\n",
    "wordnet.save(\"resources/save_binary_wn.pck\", xml=False)\n",
    "\n",
    "# save the wordnet in xml format\n",
    "wordnet.save(\"resources/save_xml_wn.pck\", xml=True)"
   ]
  },
  {
   "cell_type": "markdown",
   "metadata": {},
   "source": [
    "Every wordnet has a set of synsets that have relations between them. Let's get these synsets."
   ]
  },
  {
   "cell_type": "code",
   "execution_count": 9,
   "metadata": {},
   "outputs": [
    {
     "name": "stdout",
     "output_type": "stream",
     "text": [
      "This worndet has 59348 synsets\n"
     ]
    }
   ],
   "source": [
    "synset_ids = wordnet.synsets()\n",
    "print(\"This worndet has {} synsets\".format(len(synset_ids)))"
   ]
  },
  {
   "cell_type": "markdown",
   "metadata": {},
   "source": [
    "We can get only the synsets that contain a literal(word)."
   ]
  },
  {
   "cell_type": "code",
   "execution_count": 10,
   "metadata": {
    "scrolled": true
   },
   "outputs": [
    {
     "name": "stdout",
     "output_type": "stream",
     "text": [
      "This wordnet has 6 synsets containing literal 'cal'\n"
     ]
    }
   ],
   "source": [
    "literal = \"cal\"\n",
    "synset_ids_for_literal = wordnet.synsets(literal)\n",
    "print(\"This wordnet has {} synsets containing literal '{}'\".format(len(synset_ids_for_literal), literal))"
   ]
  },
  {
   "cell_type": "markdown",
   "metadata": {},
   "source": [
    "Every synset has a set of synsets that it has relations with. Let's get those synsets."
   ]
  },
  {
   "cell_type": "code",
   "execution_count": 11,
   "metadata": {},
   "outputs": [
    {
     "name": "stdout",
     "output_type": "stream",
     "text": [
      "List of adjacent synsets for synset with id ENG30-00006269-n: ['ENG30-00004258-n', 'ENG30-07993776-n']\n"
     ]
    }
   ],
   "source": [
    "# get the first synset id in list\n",
    "synset_id = wordnet.synsets()[0]\n",
    "adjacent_synset_ids = wordnet.adjacent_synsets(synset_id)\n",
    "print(\"List of adjacent synsets for synset with id {}: {}\".format(synset_id, adjacent_synset_ids))"
   ]
  },
  {
   "cell_type": "markdown",
   "metadata": {},
   "source": [
    "When we first created our first synset, we gave it the following id: \"id\". This isn't very good practice though, because synset ids must be unique. Wordnet has a build in function that will generate an id for you. You can also specify a prefix and a suffix for the desired id."
   ]
  },
  {
   "cell_type": "code",
   "execution_count": 12,
   "metadata": {},
   "outputs": [
    {
     "name": "stdout",
     "output_type": "stream",
     "text": [
      "Generated id with default prefix and suffix: ENG30-15300052-n\n",
      "Generated id with custom prefix 'ENG31-' and suffix '-v': ENG31-00000001-v\n"
     ]
    }
   ],
   "source": [
    "# generate id with default prefix and suffix\n",
    "new_id = wordnet.generate_synset_id()\n",
    "\n",
    "#generate id with custom prefix and suffix\n",
    "prefix = \"ENG31-\"\n",
    "suffix = \"-v\"\n",
    "new_id_with_custom_prefix_suffix = wordnet.generate_synset_id(prefix=prefix, suffix=suffix)\n",
    "print(\"Generated id with default prefix and suffix: {}\".format(new_id))\n",
    "print(\"Generated id with custom prefix '{}' and suffix '{}': {}\".format(prefix, suffix, new_id_with_custom_prefix_suffix))"
   ]
  },
  {
   "cell_type": "markdown",
   "metadata": {},
   "source": [
    "Every synset in the wordnet has its own literals. Let's try to add one literal to a synset."
   ]
  },
  {
   "cell_type": "code",
   "execution_count": 13,
   "metadata": {},
   "outputs": [
    {
     "name": "stdout",
     "output_type": "stream",
     "text": [
      "Number of synsets containing the literal 'cal' before adding it to synset with id 'ENG30-00006269-n': 6\n",
      "Number of synsets containing the literal 'cal' after adding it to synset with id 'ENG30-00006269-n': 6\n",
      "Number of synsets containing the literal 'cal' reindexin the wordnet: 7\n"
     ]
    }
   ],
   "source": [
    "# get the first synset id in the list\n",
    "synset_id = wordnet.synsets()[0]\n",
    "\n",
    "# get the synset that has that id\n",
    "synset = wordnet.synset(synset_id)\n",
    "literal = \"cal\"\n",
    "print(\"Number of synsets containing the literal '{}' before adding it to synset with id '{}': {}\"\n",
    "     .format(literal, synset_id, len(wordnet.synsets(literal))))\n",
    "synset.add_literal(literal)\n",
    "print(\"Number of synsets containing the literal '{}' after adding it to synset with id '{}': {}\"\n",
    "     .format(literal, synset_id, len(wordnet.synsets(literal))))\n",
    "wordnet.reindex_literals()\n",
    "print(\"Number of synsets containing the literal '{}' reindexin the wordnet: {}\"\n",
    "      .format(literal, len(wordnet.synsets(literal))))"
   ]
  },
  {
   "cell_type": "markdown",
   "metadata": {},
   "source": [
    "Function 'reindex_literals' must be called whenever you add or remove literals so that the literals are correctly connected in the wordnet.\n",
    "\n",
    "Now, let's remove the literal from the synset."
   ]
  },
  {
   "cell_type": "code",
   "execution_count": 14,
   "metadata": {},
   "outputs": [],
   "source": [
    "synset.remove_literal(literal)\n",
    "# we have to recall the function 'reindex_literals'\n",
    "wordnet.reindex_literals()"
   ]
  },
  {
   "cell_type": "markdown",
   "metadata": {},
   "source": [
    "Synsets in the wordnet are bound to other synsets through relations(hypernym, hyponym etc.)\n",
    "Let's add a relation from a synset to another synset."
   ]
  },
  {
   "cell_type": "code",
   "execution_count": 15,
   "metadata": {},
   "outputs": [
    {
     "name": "stdout",
     "output_type": "stream",
     "text": [
      "Number of adjacent synsets of the first synset before adding a new relation: 2\n",
      "Number of adjacent synsets of the second synset before adding a new relation: 18\n",
      "\n",
      "Number of djacent synsets of the first synset after adding a new relation: 3\n",
      "Number of adjacent synsets of the second synset after adding a new relation: 18\n"
     ]
    }
   ],
   "source": [
    "# get the first synset id in the list\n",
    "synset_id1 = wordnet.synsets()[0]\n",
    "# get the second synset id in the list\n",
    "synset_id2 = wordnet.synsets()[1]\n",
    "print(\"Number of adjacent synsets of the first synset before adding a new relation: {}\"\n",
    "      .format(len(wordnet.adjacent_synsets(synset_id1))))\n",
    "print(\"Number of adjacent synsets of the second synset before adding a new relation: {}\\n\"\n",
    "      .format(len(wordnet.adjacent_synsets(synset_id2))))\n",
    "\n",
    "relation = \"hypernym\"\n",
    "wordnet.add_relation(synset_id1, synset_id2, relation)\n",
    "print(\"Number of djacent synsets of the first synset after adding a new relation: {}\"\n",
    "      .format(len(wordnet.adjacent_synsets(synset_id1))))\n",
    "print(\"Number of adjacent synsets of the second synset after adding a new relation: {}\"\n",
    "      .format(len(wordnet.adjacent_synsets(synset_id2))))\n"
   ]
  },
  {
   "cell_type": "markdown",
   "metadata": {},
   "source": [
    "We observe that the number of adjacent synsets of the second synset remains unchanged. That's because the relation was added only from the first synset to the second synset.\n",
    "\n",
    "Let's remove the previous relation."
   ]
  },
  {
   "cell_type": "code",
   "execution_count": 16,
   "metadata": {},
   "outputs": [
    {
     "name": "stdout",
     "output_type": "stream",
     "text": [
      "Number of adjacent synsets of the first synset after removing the new relation: 2\n"
     ]
    }
   ],
   "source": [
    "wordnet.remove_relation(synset_id1, synset_id2)\n",
    "print(\"Number of adjacent synsets of the first synset after removing the new relation: {}\"\n",
    "      .format(len(wordnet.adjacent_synsets(synset_id1))))"
   ]
  },
  {
   "cell_type": "markdown",
   "metadata": {},
   "source": [
    "We can also travel the wordnet starting from a synset(we are going to iterate only the first five steps)."
   ]
  },
  {
   "cell_type": "code",
   "execution_count": 17,
   "metadata": {},
   "outputs": [
    {
     "name": "stdout",
     "output_type": "stream",
     "text": [
      "Step 1: from synset ENG30-00006269-n, with relation [hypernym] to synset ENG30-00004258-n\n",
      "Step 2: from synset ENG30-00006269-n, with relation [hyponym] to synset ENG30-07993776-n\n",
      "Step 3: from synset ENG30-00004258-n, with relation [hypernym] to synset ENG30-00003553-n\n",
      "Step 4: from synset ENG30-00004258-n, with relation [domain_member_TOPIC] to synset ENG30-01646941-a\n",
      "Step 5: from synset ENG30-00004258-n, with relation [hyponym] to synset ENG30-00004475-n\n"
     ]
    }
   ],
   "source": [
    "synset_id = wordnet.synsets()[0]\n",
    "counter = 1\n",
    "\n",
    "for current_synset, relation, from_synset in wordnet.bfwalk(synset_id):\n",
    "    # bfwalk is a generator that yields, for each call, a BF step through wordnet\n",
    "    # do actions with current_synset, relation, from_synset\n",
    "    print(\"Step {}: from synset {}, with relation [{}] to synset {}\"\n",
    "            .format(counter, from_synset, relation, current_synset))\n",
    "    if counter >= 5:\n",
    "        break\n",
    "    else:\n",
    "        counter += 1"
   ]
  },
  {
   "cell_type": "markdown",
   "metadata": {},
   "source": [
    "The relations create several trees in the wordnet. For instance, the hypernym&hyponym relation will generate a tree of type \"is a\" that looks like this: \n",
    "\n",
    "\n",
    "<img style=\"float: left;\" src=\"http://www.cs.princeton.edu/courses/archive/spring07/cos226/assignments/wordnet-fig1.png\">\n"
   ]
  },
  {
   "cell_type": "markdown",
   "metadata": {},
   "source": [
    "Of course that the tree is much bigger, but you've got the ideea.\n",
    "\n",
    "We can retrieve the synsets that creates a path from a synset to any of the roots of these trees."
   ]
  },
  {
   "cell_type": "code",
   "execution_count": 18,
   "metadata": {},
   "outputs": [
    {
     "name": "stdout",
     "output_type": "stream",
     "text": [
      "List of synsets from synset with id 'ENG30-00006269-n' to root in the hypernym tree: ['ENG30-00006269-n', 'ENG30-00004258-n', 'ENG30-00003553-n', 'ENG30-00002684-n']\n"
     ]
    }
   ],
   "source": [
    "# get the first synset in the list\n",
    "synset_id = wordnet.synsets()[0]\n",
    "relation = \"hypernym\"\n",
    "\n",
    "synset_ids_root = wordnet.synset_to_root(synset_id, relation)\n",
    "print(\"List of synsets from synset with id '{}' to root in the {} tree: {}\".format(synset_id, relation, synset_ids_root))"
   ]
  },
  {
   "cell_type": "markdown",
   "metadata": {},
   "source": [
    "We observe that to specify the desired tree, we have to specify a relation type from a child to his parent(not from parent to child!). For instance: \"hypernym\", \"meronym\" etc. The default is \"hypernym\", so we could simply call the 'synset_to_root' by simply specifying the id of the synset.\n",
    "\n",
    "We can also retrieve the lowest common ancestor of two synsets in a tree."
   ]
  },
  {
   "cell_type": "code",
   "execution_count": 19,
   "metadata": {},
   "outputs": [
    {
     "name": "stdout",
     "output_type": "stream",
     "text": [
      "Lowest common ancestor in the hypernym tree of synset with id 'ENG30-00006269-n' and synset with id 'ENG30-00006484-n' is 'ENG30-00004258-n':\n"
     ]
    }
   ],
   "source": [
    "# get the first synset in the list\n",
    "synset_id1 = wordnet.synsets()[0]\n",
    "# get the second synset in the list\n",
    "synset_id2 = wordnet.synsets()[1]\n",
    "relation = \"hypernym\"\n",
    "\n",
    "lcs_id = wordnet.lowest_common_ancestor(synset_id1, synset_id2, relation)\n",
    "print(\"Lowest common ancestor in the {} tree of synset with id '{}' and synset with id '{}' is '{}':\"\n",
    "          .format(relation, synset_id1, synset_id2, lcs_id))"
   ]
  },
  {
   "cell_type": "markdown",
   "metadata": {},
   "source": [
    "Again, we specify the desired tree by a relation type from a child to the parent. "
   ]
  },
  {
   "cell_type": "markdown",
   "metadata": {},
   "source": [
    "The following content will show a little bit more advanced series of operations.\n",
    "Task: We would like to extract a list of synonyms and antonyms from all the nouns in WordNet\n",
    "\n",
    "We first extract synonyms directly from synsets. We list all noun synsets then iterate through them and create pairs from each synset."
   ]
  },
  {
   "cell_type": "code",
   "execution_count": 20,
   "metadata": {},
   "outputs": [
    {
     "name": "stdout",
     "output_type": "stream",
     "text": [
      "\n",
      "\tList of the first 5 synonyms: (45343 total synonym pairs extracted)\n",
      "\t\t               plantă == vegetală\n",
      "\t\t                 fapt == fenomen\n",
      "\t\t        neîndeplinire == nerealizare\n",
      "\t\t              mișcare == propulsare\n",
      "\t\t              alegere == opțiune\n"
     ]
    }
   ],
   "source": [
    "import itertools\n",
    "\n",
    "synonyms = []\n",
    "synsets_id = wordnet.synsets()\n",
    "# for each synset, we create a list of synonyms between its literals\n",
    "for synset_id in synsets_id:\n",
    "    # the literals object is a dict, but we need only the\n",
    "    # actual literals (not senses)\n",
    "    synset = wordnet.synset(synset_id)\n",
    "    literals = list(synset.literals)\n",
    "    for i in range(len(literals)):\n",
    "        for j in range(i+1, len(literals)):\n",
    "            # append a tuple containing a pair of synonym literals\n",
    "            synonyms.append((literals[i], literals[j]))\n",
    "\n",
    "# list a few synonyms\n",
    "print(\"\\n\\tList of the first 5 synonyms: ({} total synonym pairs extracted)\".format(len(synonyms)))\n",
    "for i in range(5):\n",
    "    print(\"\\t\\t {:>20} == {}\".format(synonyms[i][0], synonyms[i][1]))"
   ]
  },
  {
   "cell_type": "markdown",
   "metadata": {},
   "source": [
    "Now, antonyms. We now want to extract antonyms. We look at all the antonymy relations and then for each pair of synsets in this relation we generate a cartesian product between their literals."
   ]
  },
  {
   "cell_type": "code",
   "execution_count": 21,
   "metadata": {},
   "outputs": [
    {
     "name": "stdout",
     "output_type": "stream",
     "text": [
      "\n",
      "\tList of the first 5 antonyms: (4917 total antonym pairs extracted)\n",
      "\t\t               femelă != mascul\n",
      "\t\t               femelă != parte_bărbătească\n",
      "\t\t      parte_femeiască != mascul\n",
      "\t\t      parte_femeiască != parte_bărbătească\n",
      "\t\t        imparicopitat != paricopitat\n"
     ]
    }
   ],
   "source": [
    "synset_pairs = []\n",
    "\n",
    "synsets_id = wordnet.synsets()  # extract all synsets\n",
    "for synset_id in synsets_id:\n",
    "    synset = wordnet.synset(synset_id)  # extract the antonyms of a synset\n",
    "    synset_antonyms_id = wordnet.adjacent_synsets(synset.id,\n",
    "                                                 relation=\"near_antonym\")\n",
    "    for synset_antonym_id in synset_antonyms_id:  # for each antonym synset\n",
    "        synset_antonym = wordnet.synset(synset_antonym_id) # if the antonymy pair doesn't already exists\n",
    "        if (synset_antonym, synset) not in synset_pairs:\n",
    "            synset_pairs.append((synset, synset_antonym))  # add the antonym tuple to the list\n",
    "\n",
    "# for each synset pair extract its literals, so we now have a list of\n",
    "# pairs of literals\n",
    "literal_pairs = []\n",
    "for synset_pair in synset_pairs:\n",
    "    # extract the literals of the first synset in the pair\n",
    "    synset1_literals = list(synset_pair[0].literals)\n",
    "    # extract the literals of the second synset in the pair\n",
    "    synset2_literals = list(synset_pair[1].literals)\n",
    "    # add a tuple containing the literals of each synset\n",
    "    literal_pairs.append((synset1_literals, synset2_literals))\n",
    "\n",
    "antonyms = []\n",
    "# for each literals pair, we generate the cartesian product between them\n",
    "for literal_pair in literal_pairs:\n",
    "    for antonym_tuple in itertools.product(literal_pair[0], literal_pair[1]):\n",
    "        antonyms.append(antonym_tuple)\n",
    "\n",
    "# list a few antonyms\n",
    "print(\"\\n\\tList of the first 5 antonyms: ({} total antonym pairs extracted)\".format(len(antonyms)))\n",
    "for i in range(5):\n",
    "    print(\"\\t\\t {:>20} != {}\".format(antonyms[i][0], antonyms[i][1]))"
   ]
  }
 ],
 "metadata": {
  "kernelspec": {
   "display_name": "Python 3",
   "language": "python",
   "name": "python3"
  },
  "language_info": {
   "codemirror_mode": {
    "name": "ipython",
    "version": 3
   },
   "file_extension": ".py",
   "mimetype": "text/x-python",
   "name": "python",
   "nbconvert_exporter": "python",
   "pygments_lexer": "ipython3",
   "version": "3.6.4"
  }
 },
 "nbformat": 4,
 "nbformat_minor": 2
}
